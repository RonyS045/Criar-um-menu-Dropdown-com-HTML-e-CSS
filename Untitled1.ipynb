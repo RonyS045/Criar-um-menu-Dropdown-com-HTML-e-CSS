{
  "nbformat": 4,
  "nbformat_minor": 0,
  "metadata": {
    "colab": {
      "provenance": [],
      "authorship_tag": "ABX9TyOuh65UqhVFsq0/EeruilMa",
      "include_colab_link": true
    },
    "kernelspec": {
      "name": "python3",
      "display_name": "Python 3"
    },
    "language_info": {
      "name": "python"
    }
  },
  "cells": [
    {
      "cell_type": "markdown",
      "metadata": {
        "id": "view-in-github",
        "colab_type": "text"
      },
      "source": [
        "<a href=\"https://colab.research.google.com/github/RonyS045/Criar-um-menu-Dropdown-com-HTML-e-CSS/blob/main/Untitled1.ipynb\" target=\"_parent\"><img src=\"https://colab.research.google.com/assets/colab-badge.svg\" alt=\"Open In Colab\"/></a>"
      ]
    },
    {
      "cell_type": "code",
      "execution_count": 2,
      "metadata": {
        "colab": {
          "base_uri": "https://localhost:8080/"
        },
        "id": "egNjbgMktiiw",
        "outputId": "e2779a01-f31d-4ee2-8e40-e6600e27c177"
      },
      "outputs": [
        {
          "name": "stdout",
          "output_type": "stream",
          "text": [
            "Collecting reportlab\n",
            "  Downloading reportlab-4.2.2-py3-none-any.whl.metadata (1.4 kB)\n",
            "Requirement already satisfied: pillow>=9.0.0 in /usr/local/lib/python3.10/dist-packages (from reportlab) (9.4.0)\n",
            "Requirement already satisfied: chardet in /usr/local/lib/python3.10/dist-packages (from reportlab) (5.2.0)\n",
            "Downloading reportlab-4.2.2-py3-none-any.whl (1.9 MB)\n",
            "\u001b[2K   \u001b[90m━━━━━━━━━━━━━━━━━━━━━━━━━━━━━━━━━━━━━━━━\u001b[0m \u001b[32m1.9/1.9 MB\u001b[0m \u001b[31m20.2 MB/s\u001b[0m eta \u001b[36m0:00:00\u001b[0m\n",
            "\u001b[?25hInstalling collected packages: reportlab\n",
            "Successfully installed reportlab-4.2.2\n",
            "Menu:\n",
            "1. Adicionar Medição\n",
            "2. Gerar Relatório TXT\n",
            "3. Gerar Relatório PDF\n",
            "4. Sair\n",
            "Escolha uma opção: 1\n",
            "Circuito (Monofásico/Trifásico): 15.5\n",
            "Corrente (A): 12.3\n",
            "Tensão (V): 220\n",
            "Temperatura Ambiente (°C): 23\n",
            "Temperatura Ar Retorno (°C): 25\n",
            "Temperatura Ar Insuflamento (°C): 12\n",
            "Menu:\n",
            "1. Adicionar Medição\n",
            "2. Gerar Relatório TXT\n",
            "3. Gerar Relatório PDF\n",
            "4. Sair\n",
            "Escolha uma opção: 2\n",
            "Nome do arquivo TXT: meuteste\n",
            "Relatório gerado: meuteste\n",
            "Menu:\n",
            "1. Adicionar Medição\n",
            "2. Gerar Relatório TXT\n",
            "3. Gerar Relatório PDF\n",
            "4. Sair\n",
            "Escolha uma opção: 3\n",
            "Nome do arquivo PDF: pdfteste\n",
            "Relatório gerado: pdfteste\n",
            "Menu:\n",
            "1. Adicionar Medição\n",
            "2. Gerar Relatório TXT\n",
            "3. Gerar Relatório PDF\n",
            "4. Sair\n",
            "Escolha uma opção: 4\n"
          ]
        }
      ],
      "source": [
        "!pip install reportlab\n",
        "import pandas as pd\n",
        "from reportlab.lib.pagesizes import letter\n",
        "from reportlab.pdfgen import canvas\n",
        "\n",
        "# ... (rest of the code remains the same)\n",
        "# Estrutura inicial da tabela\n",
        "data = {\n",
        "    'Circuito': [],\n",
        "    'Corrente (A)': [],\n",
        "    'Tensão (V)': [],\n",
        "    'Temp Ambiente (°C)': [],\n",
        "    'Temp Ar Retorno (°C)': [],\n",
        "    'Temp Ar Insuflamento (°C)': []\n",
        "}\n",
        "\n",
        "df = pd.DataFrame(data)\n",
        "\n",
        "def adicionar_medicao(circuito, corrente, tensao, temp_ambiente, temp_ar_retorno, temp_ar_insuflamento):\n",
        "    global df\n",
        "    nova_linha = pd.DataFrame({\n",
        "        'Circuito': [circuito],\n",
        "        'Corrente (A)': [corrente],\n",
        "        'Tensão (V)': [tensao],\n",
        "        'Temp Ambiente (°C)': [temp_ambiente],\n",
        "        'Temp Ar Retorno (°C)': [temp_ar_retorno],\n",
        "        'Temp Ar Insuflamento (°C)': [temp_ar_insuflamento]\n",
        "    })\n",
        "    df = pd.concat([df, nova_linha], ignore_index=True)\n",
        "\n",
        "def gerar_relatorio_txt(nome_arquivo):\n",
        "    df.to_csv(nome_arquivo, sep='\\t', index=False)\n",
        "\n",
        "def gerar_relatorio_pdf(nome_arquivo):\n",
        "    c = canvas.Canvas(nome_arquivo, pagesize=letter)\n",
        "    width, height = letter\n",
        "    c.drawString(100, height - 50, \"Relatório de Leituras Elétricas e Temperaturas\")\n",
        "    text = df.to_string(index=False)\n",
        "    lines = text.split('\\n')\n",
        "\n",
        "    y_position = height - 100\n",
        "    for line in lines:\n",
        "        if y_position < 50:  # Se chegar ao final da página, cria uma nova página\n",
        "            c.showPage()\n",
        "            y_position = height - 50\n",
        "            c.drawString(100, y_position, \"Relatório de Leituras Elétricas e Temperaturas\")\n",
        "            y_position -= 15\n",
        "        c.drawString(50, y_position, line)\n",
        "        y_position -= 15\n",
        "\n",
        "    c.save()\n",
        "\n",
        "def main():\n",
        "    while True:\n",
        "        print(\"Menu:\")\n",
        "        print(\"1. Adicionar Medição\")\n",
        "        print(\"2. Gerar Relatório TXT\")\n",
        "        print(\"3. Gerar Relatório PDF\")\n",
        "        print(\"4. Sair\")\n",
        "        opcao = input(\"Escolha uma opção: \")\n",
        "\n",
        "        if opcao == '1':\n",
        "            try:\n",
        "                circuito = input(\"Circuito (Monofásico/Trifásico): \")\n",
        "                corrente = float(input(\"Corrente (A): \"))\n",
        "                tensao = float(input(\"Tensão (V): \"))\n",
        "                temp_ambiente = float(input(\"Temperatura Ambiente (°C): \"))\n",
        "                temp_ar_retorno = float(input(\"Temperatura Ar Retorno (°C): \"))\n",
        "                temp_ar_insuflamento = float(input(\"Temperatura Ar Insuflamento (°C): \"))\n",
        "                adicionar_medicao(circuito, corrente, tensao, temp_ambiente, temp_ar_retorno, temp_ar_insuflamento)\n",
        "            except ValueError:\n",
        "                print(\"Valor inválido! Verifique suas entradas.\")\n",
        "\n",
        "        elif opcao == '2':\n",
        "            nome_arquivo = input(\"Nome do arquivo TXT: \")\n",
        "            gerar_relatorio_txt(nome_arquivo)\n",
        "            print(f\"Relatório gerado: {nome_arquivo}\")\n",
        "\n",
        "        elif opcao == '3':\n",
        "            nome_arquivo = input(\"Nome do arquivo PDF: \")\n",
        "            gerar_relatorio_pdf(nome_arquivo)\n",
        "            print(f\"Relatório gerado: {nome_arquivo}\")\n",
        "\n",
        "        elif opcao == '4':\n",
        "            break\n",
        "\n",
        "        else:\n",
        "            print(\"Opção inválida! Tente novamente.\")\n",
        "\n",
        "if __name__ == '__main__':\n",
        "    main()\n"
      ]
    },
    {
      "cell_type": "code",
      "source": [],
      "metadata": {
        "id": "s-dqHSVkwSOU"
      },
      "execution_count": null,
      "outputs": []
    },
    {
      "cell_type": "code",
      "source": [],
      "metadata": {
        "id": "0FSG6DZBwTLj"
      },
      "execution_count": null,
      "outputs": []
    }
  ]
}